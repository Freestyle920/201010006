{
 "cells": [
  {
   "cell_type": "code",
   "execution_count": 6,
   "metadata": {
    "collapsed": true
   },
   "outputs": [],
   "source": [
    "import os\n",
    "import findspark\n",
    "spark_home=\"C:\\Users\\minkyu\\Downloads\\spark-1.6.0-bin-hadoop2.6\"\n",
    "findspark.init(spark_home)"
   ]
  },
  {
   "cell_type": "code",
   "execution_count": 7,
   "metadata": {
    "collapsed": false
   },
   "outputs": [],
   "source": [
    "import pyspark\n",
    "conf=pyspark.SparkConf()\n",
    "conf=pyspark.SparkConf().setAppName(\"myAppName\")\n",
    "sc = pyspark.SparkContext(conf=conf)"
   ]
  },
  {
   "cell_type": "code",
   "execution_count": 13,
   "metadata": {
    "collapsed": true
   },
   "outputs": [],
   "source": [
    "from pyspark.sql import SQLContext\n",
    "from pyspark.ml.feature import StringIndexer\n",
    "from pyspark.ml.feature import HashingTF, IDF, Tokenizer, RegexTokenizer\n",
    "from pyspark.sql import SQLContext\n",
    "sqlCtx=SQLContext(sc)\n",
    "\n",
    "df = sqlCtx.createDataFrame(\n",
    "    [\n",
    "        [1, u'서울시 승용차요일제의 시행효과분석 및 발전방안을 추진하기 위해서'],\n",
    "        [1, u'승용차요일제 참여자들의 참여방식 및 문제점을 분석'],\n",
    "        [1, u'개선방안의 마련 등을 위해 설문조사를 실시하고자 합니다.'],\n",
    "        [1, u'바쁘시더라도 잠시 시간을 내시어 효율적이고 바람직한 정책이 수립되도록'],\n",
    "        [1, u'진솔하게 작성해 주시면 감사 하겠습니다.'],\n",
    "        [0, u'안녕하세요? 서울시입니다.'],\n",
    "        [0, u'서울시는 노인 인구의 증가 추세에 따라 노인성질환 치료를 위한'],\n",
    "        [0, u'전문적인 공공의료서비스 제공을 위해 양천구 신정동에'],\n",
    "        [0, u'노인성질환 전문치료병원을 건립 중에 있습니다.'],\n",
    "        [0, u'이에 서울시에서는 노인성질환 전문치료병원에 걸맞는 명칭을 제정하고자'],\n",
    "        [0, u'명칭 선호도 조사를 실시하고 있습니다.'],\n",
    "        [0, u'응답하신 내용은 통계분석 목적으로만 활용되오니'],\n",
    "        [0, u'바쁘시더라도 설문에 적극 참여해주시면 대단히 감사하겠습니다. '],\n",
    "    ],\n",
    "    ['cls','sent']\n",
    ")"
   ]
  },
  {
   "cell_type": "code",
   "execution_count": 14,
   "metadata": {
    "collapsed": false
   },
   "outputs": [
    {
     "name": "stdout",
     "output_type": "stream",
     "text": [
      "root\n",
      " |-- cls: long (nullable = true)\n",
      " |-- sent: string (nullable = true)\n",
      "\n"
     ]
    }
   ],
   "source": [
    "df.printSchema()"
   ]
  },
  {
   "cell_type": "code",
   "execution_count": 15,
   "metadata": {
    "collapsed": false
   },
   "outputs": [],
   "source": [
    "tokenizer = Tokenizer(inputCol=\"sent\", outputCol=\"words\")"
   ]
  },
  {
   "cell_type": "code",
   "execution_count": 16,
   "metadata": {
    "collapsed": true
   },
   "outputs": [],
   "source": [
    "from pyspark.ml.feature import StopWordsRemover\n",
    "stop = StopWordsRemover(inputCol=\"words\", outputCol=\"nostops\")"
   ]
  },
  {
   "cell_type": "code",
   "execution_count": 18,
   "metadata": {
    "collapsed": false
   },
   "outputs": [],
   "source": [
    "stopwords=list()\n",
    "_mystopwords=[u\"위해서\",u\"합니다.\",u\"있습니다.\", u\"하겠습니다.\"]\n",
    "for e in _mystopwords:\n",
    "    stopwords.append(e)"
   ]
  },
  {
   "cell_type": "code",
   "execution_count": 20,
   "metadata": {
    "collapsed": false
   },
   "outputs": [
    {
     "name": "stdout",
     "output_type": "stream",
     "text": [
      "위해서 합니다. 있습니다. 하겠습니다.\n"
     ]
    }
   ],
   "source": [
    "for e in stop.getStopWords():\n",
    "    print e,"
   ]
  },
  {
   "cell_type": "code",
   "execution_count": 21,
   "metadata": {
    "collapsed": false
   },
   "outputs": [
    {
     "name": "stdout",
     "output_type": "stream",
     "text": [
      "+---+--------------------+--------------------+--------------------+\n",
      "|cls|                sent|               words|             nostops|\n",
      "+---+--------------------+--------------------+--------------------+\n",
      "|  1|서울시 승용차요일제의 시행효과분...|[서울시, 승용차요일제의, 시행...|[서울시, 승용차요일제의, 시행...|\n",
      "|  1|승용차요일제 참여자들의 참여방식...|[승용차요일제, 참여자들의, 참...|[승용차요일제, 참여자들의, 참...|\n",
      "|  1|개선방안의 마련 등을 위해 설문...|[개선방안의, 마련, 등을, 위...|[개선방안의, 마련, 등을, 위...|\n",
      "|  1|바쁘시더라도 잠시 시간을 내시어...|[바쁘시더라도, 잠시, 시간을,...|[바쁘시더라도, 잠시, 시간을,...|\n",
      "|  1|진솔하게 작성해 주시면 감사 하...|[진솔하게, 작성해, 주시면, ...|[진솔하게, 작성해, 주시면, 감사]|\n",
      "|  0|      안녕하세요? 서울시입니다.|   [안녕하세요?, 서울시입니다.]|   [안녕하세요?, 서울시입니다.]|\n",
      "|  0|서울시는 노인 인구의 증가 추세...|[서울시는, 노인, 인구의, 증...|[서울시는, 노인, 인구의, 증...|\n",
      "|  0|전문적인 공공의료서비스 제공을 ...|[전문적인, 공공의료서비스, 제...|[전문적인, 공공의료서비스, 제...|\n",
      "|  0|노인성질환 전문치료병원을 건립 ...|[노인성질환, 전문치료병원을, ...|[노인성질환, 전문치료병원을, ...|\n",
      "|  0|이에 서울시에서는 노인성질환 전...|[이에, 서울시에서는, 노인성질...|[이에, 서울시에서는, 노인성질...|\n",
      "|  0|명칭 선호도 조사를 실시하고 있...|[명칭, 선호도, 조사를, 실시...|[명칭, 선호도, 조사를, 실시하고]|\n",
      "|  0|응답하신 내용은 통계분석 목적으...|[응답하신, 내용은, 통계분석,...|[응답하신, 내용은, 통계분석,...|\n",
      "|  0|바쁘시더라도 설문에 적극 참여해...|[바쁘시더라도, 설문에, 적극,...|[바쁘시더라도, 설문에, 적극,...|\n",
      "+---+--------------------+--------------------+--------------------+\n",
      "\n"
     ]
    }
   ],
   "source": [
    "tokDf = tokenizer.transform(df)\n",
    "stopDf=stop.transform(tokDf)\n",
    "stopDf.show()"
   ]
  },
  {
   "cell_type": "code",
   "execution_count": 22,
   "metadata": {
    "collapsed": false
   },
   "outputs": [
    {
     "name": "stdout",
     "output_type": "stream",
     "text": [
      "+--------------------+--------------------+--------------------+\n",
      "|               words|             nostops|                  cv|\n",
      "+--------------------+--------------------+--------------------+\n",
      "|[서울시, 승용차요일제의, 시행...|[서울시, 승용차요일제의, 시행...|(30,[3,20],[1.0,1...|\n",
      "|[승용차요일제, 참여자들의, 참...|[승용차요일제, 참여자들의, 참...|(30,[3,12,17,18],...|\n",
      "|[개선방안의, 마련, 등을, 위...|[개선방안의, 마련, 등을, 위...|(30,[1,4],[1.0,1.0])|\n",
      "|[바쁘시더라도, 잠시, 시간을,...|[바쁘시더라도, 잠시, 시간을,...|(30,[2,7,8,15,24]...|\n",
      "|[진솔하게, 작성해, 주시면, ...|[진솔하게, 작성해, 주시면, 감사]|     (30,[23],[1.0])|\n",
      "|   [안녕하세요?, 서울시입니다.]|   [안녕하세요?, 서울시입니다.]|     (30,[16],[1.0])|\n",
      "|[서울시는, 노인, 인구의, 증...|[서울시는, 노인, 인구의, 증...|(30,[0,9,19,25,26...|\n",
      "|[전문적인, 공공의료서비스, 제...|[전문적인, 공공의료서비스, 제...|(30,[1,6,27],[1.0...|\n",
      "|[노인성질환, 전문치료병원을, ...|[노인성질환, 전문치료병원을, ...|      (30,[0],[1.0])|\n",
      "|[이에, 서울시에서는, 노인성질...|[이에, 서울시에서는, 노인성질...|(30,[0,5,22],[1.0...|\n",
      "|[명칭, 선호도, 조사를, 실시...|[명칭, 선호도, 조사를, 실시하고]|     (30,[10],[1.0])|\n",
      "|[응답하신, 내용은, 통계분석,...|[응답하신, 내용은, 통계분석,...|(30,[11,13,14],[1...|\n",
      "|[바쁘시더라도, 설문에, 적극,...|[바쁘시더라도, 설문에, 적극,...|(30,[2,21,28],[1....|\n",
      "+--------------------+--------------------+--------------------+\n",
      "\n"
     ]
    }
   ],
   "source": [
    "from pyspark.ml.feature import CountVectorizer\n",
    "cv = CountVectorizer(inputCol=\"nostops\", outputCol=\"cv\", vocabSize=30,minDF=1.0)\n",
    "cvModel = cv.fit(stopDf)\n",
    "cvDf = cvModel.transform(stopDf)\n",
    "\n",
    "cvDf.collect()\n",
    "cvDf.select('words','nostops','cv').show()"
   ]
  },
  {
   "cell_type": "code",
   "execution_count": 23,
   "metadata": {
    "collapsed": false
   },
   "outputs": [
    {
     "data": {
      "text/plain": [
       "[Row(cv=SparseVector(30, {3: 1.0, 20: 1.0})),\n",
       " Row(cv=SparseVector(30, {3: 1.0, 12: 1.0, 17: 1.0, 18: 1.0})),\n",
       " Row(cv=SparseVector(30, {1: 1.0, 4: 1.0})),\n",
       " Row(cv=SparseVector(30, {2: 1.0, 7: 1.0, 8: 1.0, 15: 1.0, 24: 1.0})),\n",
       " Row(cv=SparseVector(30, {23: 1.0})),\n",
       " Row(cv=SparseVector(30, {16: 1.0})),\n",
       " Row(cv=SparseVector(30, {0: 1.0, 9: 1.0, 19: 1.0, 25: 1.0, 26: 1.0, 29: 1.0})),\n",
       " Row(cv=SparseVector(30, {1: 1.0, 6: 1.0, 27: 1.0})),\n",
       " Row(cv=SparseVector(30, {0: 1.0})),\n",
       " Row(cv=SparseVector(30, {0: 1.0, 5: 1.0, 22: 1.0})),\n",
       " Row(cv=SparseVector(30, {10: 1.0})),\n",
       " Row(cv=SparseVector(30, {11: 1.0, 13: 1.0, 14: 1.0})),\n",
       " Row(cv=SparseVector(30, {2: 1.0, 21: 1.0, 28: 1.0}))]"
      ]
     },
     "execution_count": 23,
     "metadata": {},
     "output_type": "execute_result"
    }
   ],
   "source": [
    "cvDf.select('cv').take(13)"
   ]
  },
  {
   "cell_type": "code",
   "execution_count": null,
   "metadata": {
    "collapsed": true
   },
   "outputs": [],
   "source": []
  }
 ],
 "metadata": {
  "anaconda-cloud": {},
  "kernelspec": {
   "display_name": "Python [conda root]",
   "language": "python",
   "name": "conda-root-py"
  },
  "language_info": {
   "codemirror_mode": {
    "name": "ipython",
    "version": 2
   },
   "file_extension": ".py",
   "mimetype": "text/x-python",
   "name": "python",
   "nbconvert_exporter": "python",
   "pygments_lexer": "ipython2",
   "version": "2.7.12"
  }
 },
 "nbformat": 4,
 "nbformat_minor": 1
}
