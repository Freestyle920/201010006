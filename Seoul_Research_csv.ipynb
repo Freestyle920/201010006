{
 "cells": [
  {
   "cell_type": "code",
   "execution_count": 18,
   "metadata": {
    "collapsed": true
   },
   "outputs": [],
   "source": [
    "import urlparse\n",
    "import urllib\n",
    "import requests\n",
    "import lxml\n",
    "import lxml.etree\n",
    "import xml.etree.ElementTree as ET\n",
    "import csv"
   ]
  },
  {
   "cell_type": "code",
   "execution_count": 19,
   "metadata": {
    "collapsed": true
   },
   "outputs": [],
   "source": [
    "url='http://openapi.seoul.go.kr:8088/'\n",
    "TYPE='xml'\n",
    "SERVICE='ResultsByTopic'\n",
    "START_INDEX='1'\n",
    "END_INDEX='1000'"
   ]
  },
  {
   "cell_type": "code",
   "execution_count": 20,
   "metadata": {
    "collapsed": true
   },
   "outputs": [],
   "source": [
    "KEY='6f525355466d696e39317666736479'"
   ]
  },
  {
   "cell_type": "code",
   "execution_count": 21,
   "metadata": {
    "collapsed": true
   },
   "outputs": [],
   "source": [
    "url+=KEY\n",
    "url+='/'\n",
    "url+=TYPE\n",
    "url+='/'\n",
    "url+=SERVICE\n",
    "url+='/'\n",
    "url+=START_INDEX\n",
    "url+='/'\n",
    "url+=END_INDEX"
   ]
  },
  {
   "cell_type": "code",
   "execution_count": 22,
   "metadata": {
    "collapsed": false
   },
   "outputs": [
    {
     "name": "stdout",
     "output_type": "stream",
     "text": [
      "http://openapi.seoul.go.kr:8088/6f525355466d696e39317666736479/xml/ResultsByTopic/1/1000\n",
      "<?xml\n"
     ]
    }
   ],
   "source": [
    "print url\n",
    "data=requests.get(url).text\n",
    "print data[:5]"
   ]
  },
  {
   "cell_type": "code",
   "execution_count": 23,
   "metadata": {
    "collapsed": true
   },
   "outputs": [],
   "source": [
    "tree=lxml.etree.fromstring(data.encode('utf-8'))\n",
    "code = tree.xpath('//CODE')"
   ]
  },
  {
   "cell_type": "code",
   "execution_count": 24,
   "metadata": {
    "collapsed": true
   },
   "outputs": [],
   "source": [
    "_Q1=tree.xpath('//POLL_SEQ')\n",
    "_Q2=tree.xpath('//TITLE')\n",
    "_Q3=tree.xpath('//CONTENT')\n",
    "_Q4=tree.xpath('//QUESTION_NUM')\n",
    "_Q5=tree.xpath('//QUESTION_TITLE')\n",
    "_Q6=tree.xpath('//ANSWER_NUM')\n",
    "_Q7=tree.xpath('//ANSWER_TITLE')\n",
    "_Q8=tree.xpath('//TOTAL_CNT')"
   ]
  },
  {
   "cell_type": "code",
   "execution_count": 25,
   "metadata": {
    "collapsed": false
   },
   "outputs": [],
   "source": [
    "f = open('research.csv',\"ab\")\n",
    "cw=csv.writer(f)"
   ]
  },
  {
   "cell_type": "code",
   "execution_count": 26,
   "metadata": {
    "collapsed": true
   },
   "outputs": [],
   "source": [
    "import sys\n",
    "reload(sys)\n",
    "sys.setdefaultencoding('utf-8')"
   ]
  },
  {
   "cell_type": "code",
   "execution_count": 27,
   "metadata": {
    "collapsed": false
   },
   "outputs": [],
   "source": [
    "index=1\n",
    "\n",
    "for ent in range(0, 1):\n",
    "    inp=[]\n",
    "    inp.append(_Q1[ent].text)\n",
    "    inp.append(_Q2[ent].text)\n",
    "    inp.append(_Q3[ent].text)\n",
    "    inp.append(_Q4[ent].text)\n",
    "    inp.append(_Q5[ent].text)\n",
    "    inp.append(_Q6[ent].text)\n",
    "    inp.append(_Q7[ent].text)\n",
    "    inp.append(_Q8[ent].text)\n",
    "    cw.writerow(inp)\n",
    "    index += 1000\n",
    "f.close()"
   ]
  },
  {
   "cell_type": "code",
   "execution_count": null,
   "metadata": {
    "collapsed": true
   },
   "outputs": [],
   "source": []
  }
 ],
 "metadata": {
  "anaconda-cloud": {},
  "kernelspec": {
   "display_name": "Python [conda root]",
   "language": "python",
   "name": "conda-root-py"
  },
  "language_info": {
   "codemirror_mode": {
    "name": "ipython",
    "version": 2
   },
   "file_extension": ".py",
   "mimetype": "text/x-python",
   "name": "python",
   "nbconvert_exporter": "python",
   "pygments_lexer": "ipython2",
   "version": "2.7.12"
  }
 },
 "nbformat": 4,
 "nbformat_minor": 1
}
