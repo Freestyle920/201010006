{
 "cells": [
  {
   "cell_type": "markdown",
   "metadata": {},
   "source": [
    "#T-5: Follower를 가져온다."
   ]
  },
  {
   "cell_type": "code",
   "execution_count": 5,
   "metadata": {
    "collapsed": true
   },
   "outputs": [],
   "source": [
    "import urllib\n",
    "url = \"https://api.twitter.com/1.1/followers/list.json\"\n",
    "import oauth2 as oauth\n",
    "import os"
   ]
  },
  {
   "cell_type": "code",
   "execution_count": 3,
   "metadata": {
    "collapsed": true
   },
   "outputs": [],
   "source": [
    "def getApiKey(keyPath):\n",
    "    d=dict()\n",
    "    f=open(keyPath,'r')\n",
    "    for line in f.readlines():\n",
    "        row=line.split('=')\n",
    "        row0=row[0]\n",
    "        d[row0]=row[1].strip()\n",
    "    return d"
   ]
  },
  {
   "cell_type": "code",
   "execution_count": 4,
   "metadata": {
    "collapsed": true
   },
   "outputs": [],
   "source": [
    "keyPath=os.path.join(os.getcwd(), 'bigdata', 'twitterApi.properties')\n",
    "key=getApiKey(keyPath)\n",
    "consumer=oauth.Consumer(key=key['Consumer_Key'], secret=key['Consumer_Secret'])\n",
    "token=oauth.Token(key=key['Access_Token'], secret=key['Access_Token_Secret'])"
   ]
  },
  {
   "cell_type": "code",
   "execution_count": 8,
   "metadata": {
    "collapsed": false
   },
   "outputs": [],
   "source": [
    "client=oauth.Client(consumer, token)\n",
    "import json\n",
    "response, content = client.request(url, method=\"GET\")\n",
    "tfollower_json = json.loads(content)"
   ]
  },
  {
   "cell_type": "code",
   "execution_count": 15,
   "metadata": {
    "collapsed": false
   },
   "outputs": [],
   "source": [
    "import twitter\n",
    "auth = twitter.oauth.OAuth(key['Consumer_Key'], key['Consumer_Secret'],key['Access_Token'],key['Access_Token_Secret'])\n",
    "_client = twitter.Twitter(auth=auth)"
   ]
  },
  {
   "cell_type": "code",
   "execution_count": 17,
   "metadata": {
    "collapsed": false
   },
   "outputs": [
    {
     "name": "stdout",
     "output_type": "stream",
     "text": [
      "5\n",
      "<type 'dict'>\n"
     ]
    }
   ],
   "source": [
    "print len(tfollower_json)\n",
    "print type(tfollower_json)"
   ]
  },
  {
   "cell_type": "code",
   "execution_count": 18,
   "metadata": {
    "collapsed": false
   },
   "outputs": [
    {
     "name": "stdout",
     "output_type": "stream",
     "text": [
      "28027432 vrmanager1\n",
      "3065717180 MeeDeDe\n"
     ]
    }
   ],
   "source": [
    "for i in tfollower_json['users']:\n",
    "    print i['id'],i['screen_name']"
   ]
  },
  {
   "cell_type": "code",
   "execution_count": null,
   "metadata": {
    "collapsed": true
   },
   "outputs": [],
   "source": []
  }
 ],
 "metadata": {
  "anaconda-cloud": {},
  "kernelspec": {
   "display_name": "Python [conda root]",
   "language": "python",
   "name": "conda-root-py"
  },
  "language_info": {
   "codemirror_mode": {
    "name": "ipython",
    "version": 2
   },
   "file_extension": ".py",
   "mimetype": "text/x-python",
   "name": "python",
   "nbconvert_exporter": "python",
   "pygments_lexer": "ipython2",
   "version": "2.7.12"
  }
 },
 "nbformat": 4,
 "nbformat_minor": 1
}
