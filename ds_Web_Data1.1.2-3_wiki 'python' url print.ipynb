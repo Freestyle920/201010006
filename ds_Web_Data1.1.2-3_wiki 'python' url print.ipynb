{
 "cells": [
  {
   "cell_type": "code",
   "execution_count": 10,
   "metadata": {
    "collapsed": true
   },
   "outputs": [],
   "source": [
    "from urllib import urlopen\n",
    "keyword='python'\n",
    "resp = urlopen('https://www.google.com/search?q='+keyword)\n",
    "html=resp.read()"
   ]
  },
  {
   "cell_type": "code",
   "execution_count": 11,
   "metadata": {
    "collapsed": false
   },
   "outputs": [
    {
     "name": "stdout",
     "output_type": "stream",
     "text": [
      "error\n"
     ]
    }
   ],
   "source": [
    "import re\n",
    "p=re.compile('.*(error).*')\n",
    "print p.search(html).group(1)"
   ]
  },
  {
   "cell_type": "code",
   "execution_count": 12,
   "metadata": {
    "collapsed": false
   },
   "outputs": [
    {
     "name": "stdout",
     "output_type": "stream",
     "text": [
      "<_sre.SRE_Match object at 0x0000000003DC14E0>\n"
     ]
    }
   ],
   "source": [
    "print p.search(html)"
   ]
  },
  {
   "cell_type": "code",
   "execution_count": 13,
   "metadata": {
    "collapsed": false
   },
   "outputs": [
    {
     "name": "stdout",
     "output_type": "stream",
     "text": [
      "<_sre.SRE_Match object at 0x0000000003DC1378>\n"
     ]
    }
   ],
   "source": [
    "print str(p.search(html))"
   ]
  },
  {
   "cell_type": "code",
   "execution_count": 14,
   "metadata": {
    "collapsed": false
   },
   "outputs": [
    {
     "name": "stdout",
     "output_type": "stream",
     "text": [
      "<!DOCTYPE html><html lang=en><meta charset=utf-8><meta name=viewport content=\"initial-scale=1, minimum-scale=1, width=device-width\"><title>Error 403 (Forbidden)!!1</title><style>*{margin:0;padding:0}html,code{font:15px/22px arial,sans-serif}html{background:#fff;color:#222;padding:15px}body{margin:7% auto 0;max-width:390px;min-height:180px;padding:30px 0 15px}* > body{background:url(//www.google.com/images/errors/robot.png) 100% 5px no-repeat;padding-right:205px}p{margin:11px 0 22px;overflow:hidden}ins{color:#777;text-decoration:none}a img{border:0}@media screen and (max-width:772px){body{background:none;margin-top:0;max-width:none;padding-right:0}}#logo{background:url(//www.google.com/images/branding/googlelogo/1x/googlelogo_color_150x54dp.png) no-repeat;margin-left:-5px}@media only screen and (min-resolution:192dpi){#logo{background:url(//www.google.com/images/branding/googlelogo/2x/googlelogo_color_150x54dp.png) no-repeat 0% 0%/100% 100%;-moz-border-image:url(//www.google.com/images/branding/googlelogo/2x/googlelogo_color_150x54dp.png) 0}}@media only screen and (-webkit-min-device-pixel-ratio:2){#logo{background:url(//www.google.com/images/branding/googlelogo/2x/googlelogo_color_150x54dp.png) no-repeat;-webkit-background-size:100% 100%}}#logo{display:inline-block;height:54px;width:150px}</style><a href=//www.google.com/><span id=logo aria-label=Google></span></a><p><b>403.</b> <ins>That’s an error.</ins><p>Your client does not have permission to get URL <code>/search?q=python&amp;gws_rd=cr&amp;ei=XOYKWJHYD8bY0gTPqLuwDg</code> from this server.  (Client IP address: 61.106.112.59)<br><br>\n"
     ]
    }
   ],
   "source": [
    "print p.search(html).group()"
   ]
  },
  {
   "cell_type": "code",
   "execution_count": 15,
   "metadata": {
    "collapsed": false
   },
   "outputs": [
    {
     "name": "stdout",
     "output_type": "stream",
     "text": [
      "302\n"
     ]
    }
   ],
   "source": [
    "import requests\n",
    "\n",
    "resp = requests.head(\"http://www.google.com\")\n",
    "print resp.status_code"
   ]
  },
  {
   "cell_type": "code",
   "execution_count": 16,
   "metadata": {
    "collapsed": false
   },
   "outputs": [
    {
     "name": "stdout",
     "output_type": "stream",
     "text": [
      "\n",
      "{'Date': 'Sat, 22 Oct 2016 04:09:10 GMT', 'Content-Length': '261', 'Content-Type': 'text/html; charset=UTF-8', 'Location': 'http://www.google.co.kr/?gfe_rd=cr&ei=ZuYKWIjRKqzY8gfalKOQAQ', 'Cache-Control': 'private'}\n"
     ]
    }
   ],
   "source": [
    "print resp.text\n",
    "print resp.headers"
   ]
  },
  {
   "cell_type": "code",
   "execution_count": 28,
   "metadata": {
    "collapsed": false
   },
   "outputs": [
    {
     "name": "stdout",
     "output_type": "stream",
     "text": [
      "Date: Sat, 22 Oct 2016 04:43:02 GMT\r\n",
      "Expires: -1\r\n",
      "Cache-Control: private, max-age=0\r\n",
      "Content-Type: text/html; charset=EUC-KR\r\n",
      "P3P: CP=\"This is not a P3P policy! See https://www.google.com/support/accounts/answer/151657?hl=en for more info.\"\r\n",
      "Server: gws\r\n",
      "X-XSS-Protection: 1; mode=block\r\n",
      "X-Frame-Options: SAMEORIGIN\r\n",
      "Set-Cookie: NID=89=d-2Ez-UTtxSSoLH4VXbm1etEnvX4vzOmze0dTf3SZ5wNEwx8mXOUMYlVzShRjpOH0AGlyfRQQHrLxsozzbgAh7gAwskoRWc-y_14Xzl0X6hO4K-NqWh5Vh4UitBx0IFI; expires=Sun, 23-Apr-2017 04:43:02 GMT; path=/; domain=.google.co.kr; HttpOnly\r\n",
      "Accept-Ranges: none\r\n",
      "Vary: Accept-Encoding\r\n",
      "Connection: close\r\n",
      "\n",
      "http://www.google.co.kr/index.html?gfe_rd=cr&ei=Vu4KWOPFI5HM8gfQiYGwDQ\n"
     ]
    }
   ],
   "source": [
    "import urllib2\n",
    "class HeadRequest(urllib2.Request):\n",
    "     def get_method(self):\n",
    "         return \"HEAD\"\n",
    "import urllib2\n",
    "response = urllib2.urlopen(HeadRequest(\"http://google.com/index.html\"))\n",
    "print response.info()\n",
    "print response.geturl()"
   ]
  },
  {
   "cell_type": "code",
   "execution_count": 29,
   "metadata": {
    "collapsed": false
   },
   "outputs": [
    {
     "name": "stdout",
     "output_type": "stream",
     "text": [
      "<!DOCTYPE html><html lang=en><meta charset=utf-8><meta name=viewport content=\"initial-scale=1, minimum-scale=1, width=device-width\"><title>Error 403 (Forbidden)!!1</title><style>*{margin:0;padding:0}html,code{font:15px/22px arial,sans-serif}html{background:#fff;color:#222;padding:15px}body{margin:7% auto 0;max-width:390px;min-height:180px;padding:30px 0 15px}* > body{background:url(//www.google.com/images/errors/robot.png) 100% 5px no-repeat;padding-right:205px}p{margin:11px 0 22px;overflow:hidden}ins{color:#777;text-decoration:none}a img{border:0}@media screen and (max-width:772px){body{background:none;margin-top:0;max-width:none;padding-right:0}}#logo{background:url(//www.google.com/images/branding/googlelogo/1x/googlelogo_color_150x54dp.png) no-repeat;margin-left:-5px}@media only screen and (min-resolution:192dpi){#logo{background:url(//www.google.com/images/branding/googlelogo/2x/googlelogo_color_150x54dp.png) no-repeat 0% 0%/100% 100%;-moz-border-image:url(//www.google.com/images/branding/googlelogo/2x/googlelogo_color_150x54dp.png) 0}}@media only screen and (-webkit-min-device-pixel-ratio:2){#logo{background:url(//www.google.com/images/branding/googlelogo/2x/googlelogo_color_150x54dp.png) no-repeat;-webkit-background-size:100% 100%}}#logo{display:inline-block;height:54px;width:150px}</style><a href=//www.google.com/><span id=logo aria-label=Google></span></a><p><b>403.</b> <ins>That’s an error.</ins><p>Your client does not have permission to get URL <code>/search?q=python&amp;gws_rd=cr&amp;ei=Yu4KWOPTIszt0ASoh5b4Ag</code> from this server.  (Client IP address: 61.106.112.59)<br><br>\n",
      "Please see Google's Terms of Service posted at http://www.google.com/terms_of_service.html\n",
      "<BR><BR><P>If you believe that you have received this response in error, please <A HREF=\"https://www.google.com/support/contact/user?hl=en\">report</A> your problem. However, please make sure to take a look at our Terms of Service (http://www.google.com/terms_of_service.html). In your email, please send us the <b>entire</b> code displayed below.  Please also send us any information you may know about how you are performing your Google searches-- for example, \"I'm using the Opera browser on Linux to do searches from home.  My Internet access is through a dial-up account I have with the FooCorp ISP.\" or \"I'm using the Konqueror browser on Linux to search from my job at myFoo.com.  My machine's IP address is 10.20.30.40, but all of myFoo's web traffic goes through some kind of proxy server whose IP address is 10.11.12.13.\"  (If you don't know any information like this, that's OK.  But this kind of information can help us track down problems, so please tell us what you can.)</P><P>We will use all this information to diagnose the problem, and we'll hopefully have you back up and searching with Google again quickly!</P>\n",
      "<P>Please note that although we read all the email we receive, we are not always able to send a personal response to each and every email.  So don't despair if you don't hear back from us!</P>\n",
      "<P>Also note that if you do not send us the <b>entire</b> code below, <i>we will not be able to help you</i>.</P><P>Best wishes,<BR>The Google Team</BR></P><BLOCKQUOTE>/+/+/+/+/+/+/+/+/+/+/+/+/+/+/+/+/+/+/+/+/+/+/+/+/<BR>\n",
      "lj6bDGE5l4IoELWux4ey7zTd6aTPgnph-BVJjqD5xecWNo-b1<BR>\n",
      "zJJISN7IlbyAljh6X6SLZ3swd_tknvDiAFCUEgGuVZnE7Yd6U<BR>\n",
      "z5qTEZ0eMMnSdGrN7N0BB9ZCOd5ktb34k0vzlma2FLqn4YVP1<BR>\n",
      "iohQs-s2AoAiFKlGNyXaTCO8GfhXxBt5JYGl4I_VlovyDcJ_x<BR>\n",
      "hSx-rLPVeIHZj9mXBdgwnPMBejraI44FE-_ed0hcGouq3OYzL<BR>\n",
      "-6G1QW8EP3-2mCO4hG_I8fucJV2VppYZM8nxiQsBmtudyixfq<BR>\n",
      "B8gGXW60SPFvcQAVErGMlkApGvbmoJIJ77Lz7Eq_ODCuG9L9j<BR>\n",
      "VObSoMMuh-EmfIIazlYX-iiGp9q0kEsjpH05QdEDJCrfeXbAT<BR>\n",
      "eco7pw0eBa0rZFyJ2f2f8QEtUZ2Imv7it1DktVhotXbaE8kuI<BR>\n",
      "Q94GyyMcqZ_lZoMmgx-xA_K-NSqB13BHc2VkZ6vO3UqbmueAY<BR>\n",
      "9m0h37ia6vQolsvu6GlRRskiysxGdHEPVF0PirI6wX74oD-oX<BR>\n",
      "RkIdbuCosvlbTKxaDgye-zo5r_LLS9uvebFaH8GIjfR1vn5cU<BR>\n",
      "LPrNgKAIhbeUS0rG6RTAwEw7VW_Z2fHHgHDY9xlor0BZfCscs<BR>\n",
      "7WCRvQ7D0BYmTZcI-stIh84Eb4cndBfLivWoo6r-qOcSnn6oF<BR>\n",
      "eb4XMoH-U1nFHX8uJoMDiFF8AYXP_VaAsqsSqnPKgv5okiYJQ<BR>\n",
      "Ndbjj7vDaRl8rXz7-ACGvd8eLhnqGVAErmg9SOkZhv1ig7oWI<BR>\n",
      "8sve4XNHPv81qRJUcJ27Yip7XBfPt701XlyTTctJLDwpEv6Jx<BR>\n",
      "njMWOlj3Ja06SbL-MuvT0R1u7tK8_J4nepM0Ayos7YULPrNgK<BR>\n",
      "AIhRLyXzxHnMTnTqtlmflwpGRfSL3dEvKYfWI4Ke9GzvyVVBw<BR>\n",
      "rwflFvseEV_LN7Qt2y1sQe0ZbKzonsGbPRdQCY_iaXoqRbFKH<BR>\n",
      "mK8jM5PFYu7USGa1Bd6cOEihYrHSg3FEMR16bgacWIN4aW9j9<BR>\n",
      "icgf5Y8EV_0YJ-0VTXgoh2yEYZ6Lgir7kzUWOc8Rwtz4mucSG<BR>\n",
      "F1LtfLSyIVBZagmIpPHUNjPcPUbNHeKEeq9AifZ4MkExKVuXb<BR>\n",
      "1tbiPKgTvDYKKQ6cNzCYJzZaAF4WZbW0cT5kLpm3uA7eFbrh8<BR>\n",
      "61iaaUHm3RLjPXiNLNcf0T1Dg2Up_b_S5ctAGCxQEOJADEL1A<BR>\n",
      "kq4Cfi39UkzAVfF73mCc-qF5Hex98eq-VzH-cmEpZkXKc8b74<BR>\n",
      "wHdoybElt_BVmigcY0F04qwrv6BjIVLlsm-4QSSOL_6Yk2WgH<BR>\n",
      "xLRv1<BR>\n",
      "+/+/+/+/+/+/+/+/+/+/+/+/+/+/+/+/+/+/+/+/+/+/+/+/+<BR></BLOCKQUOTE>\n",
      "\n",
      "                                                                                                                                                                                                                                                                                                                                                                                                                                                                                                                                        \r\n",
      "  <ins>That’s all we know.</ins>\n"
     ]
    }
   ],
   "source": [
    "from urllib import urlopen\n",
    "keyword='python'\n",
    "resp = urlopen('http://www.google.com/search?q=python')\n",
    "html=resp.read()\n",
    "print html"
   ]
  },
  {
   "cell_type": "code",
   "execution_count": 31,
   "metadata": {
    "collapsed": false
   },
   "outputs": [
    {
     "name": "stdout",
     "output_type": "stream",
     "text": [
      "{{About|the programming language|the snake genus|Python (genus)|other uses|Python (disambiguation)}}\n",
      "{{Use dmy dates|date=August 2015}}\n",
      "{{Infobox programming language\n",
      "|name                   = Python\n",
      "|logo                   = Python logo and wordmark.svg\n",
      "|logo size              = 260px\n",
      "|paradigm               = [[multi-paradigm programming language|multi-paradigm]]: [[object-oriented programming|object-oriented]], [[imperative programming|imperative]], [[functional programming|functional]], [[procedural programming|procedural]], [[reflective programming|reflective]]\n",
      "|released               = {{Start date and age|1991|02|20|df=yes}}<ref>{{cite web|url=http://python-history.blogspot.com/2009/01/brief-timeline-of-python.html|title=The History of Python: A Brief Timeline of Python|work=[[Blogger (service)|Blogger]]|date=2009-01-20|accessdate=2016-03-20}}</ref>\n",
      "|designer               = [[Guido van Rossum]]\n",
      "|developer              = [[Python Software Foundation]]\n",
      "|latest release version = 3.5.2 / {{Start date and age|2016|06|27|df=yes}}<ref>{{cite web |url=http://blog.python.org/2016/06/python-352-and-python-345-are-now.html |title=Python 3.5.2 and Python 3.4.5 are now available |website=Python Insider |publisher=The Python Core Developers |first=Larry |last=Hastings |date=2016-06-27 |accessdate=2016-06-28}}</ref><br>2.7.12 / {{Start date and age|2016|06|28|df=yes}}<ref>{{cite web |url=http://blog.python.org/2016/06/python-2712-released.html |title=Python 2.7.12 released |website=Python Insider |publisher=The Python Core Developers |first=Benjamin |last=Peterson |date=2016-06-28 |accessdate=2016-06-28}}</ref>\n",
      "|latest preview version = 3.6.0b2 / {{Start date and age|2016|10|10}}<ref name=\"Python Release Python 3.6.0b2\">{{cite web |url=https://www.python.org/downloads/release/python-360b2/ |title=Python Release Python 3.6.0b2|publisher=Python Software Foundation|accessdate=12 October 2016}}</ref><!-- <br>2.7.9rc1 / {{Start date and age|2014|11|26|df=yes}}<ref>{{cite web |url=https://www.python.org/downloads/release/python-279rc1/ |title=Python 2.7.9 rc1 Release |publisher=Python Software Foundation |accessdate=26 November 2014}}</ref -->\n",
      "|latest preview date    = \n",
      "|typing                 = [[duck typing|duck]], [[dynamic typing|dynamic]], [[strong typing|strong]], [[gradual typing|gradual]] (as of Python 3.5)<ref>{{cite web|url=https://lwn.net/Articles/627418/|title=Type hinting for Python|publisher=LWN.net|date=24 December 2014|accessdate=5 May 2015}}</ref>\n",
      "|implementations        = [[CPython]], [[IronPython]], [[Jython]], [[MicroPython]], [[PyPy]]\n",
      "|dialects               = [[Cython]], [[RPython]], [[Stackless Python]]\n",
      "|influenced             = [[Boo (programming language)|Boo]], [[Cobra (programming language)|Cobra]], [[CoffeeScript]],<ref>{{cite web|url=http://coffeescript.org/|title=CoffeeScript borrows chained comparisons from Python}}</ref> [[D (programming language)|D]], [[F Sharp (programming language)|F#]], [[Falcon (programming language)|Falcon]], [[Genie (programming language)|Genie]],<ref>{{cite web \n",
      "|url=https://wiki.gnome.org/action/show/Projects/Genie\n",
      "|title=Genie Language - A brief guide \n",
      "|accessdate=2015-12-28}}</ref> [[Go (programming language)|Go]], [[Groovy (programming language)|Groovy]], [[JavaScript]],<ref>{{cite web\n",
      "|title = Perl and Python influences in JavaScript\n",
      "|date= 24 February 2013\n",
      "|website= www.2ality.com\n",
      "|url= http://www.2ality.com/2013/02/javascript-influences.html\n",
      "|accessdate= 15 May 2015}}</ref><ref>{{cite web\n",
      "|title = Chapter 3: The Nature of JavaScript; Influences\n",
      "|last=Rauschmayer\n",
      "|first=Axel\n",
      "|website=O'Reilly, Speaking JavaScript\n",
      "|url= http://speakingjs.com/es5/ch03.html\n",
      "|accessdate= 15 May 2015}}</ref> [[Julia (programming language)|Julia]],<ref name=Julia/> [[Nim (programming language)|Nim]], [[Ruby (programming language)|Ruby]],<ref name=\"bini\"/> [[Swift (programming language)|Swift]],<ref name=\"lattner2014\">{{cite web|url=http://nondot.org/sabre/|title=Chris Lattner's Homepage|last=Lattner|first=Chris|date=3 June 2014|accessdate=3 June 2014|publisher=Chris Lattner|quote=The Swift language is the product of tireless effort from a team of language experts, documentation gurus, compiler optimization ninjas, and an incredibly important internal dogfooding group who provided feedback to help refine and battle-test ideas. Of course, it also greatly benefited from the experiences hard-won by many other languages in the field, drawing ideas from Objective-C, Rust, Haskell, Ruby, Python, C#, CLU, and far too many others to list.}}</ref>\n",
      "|operating system       = [[Cross-platform]]\n",
      "|license                = [[Python Software Foundation License]]\n",
      "|website                = {{URL|https://www.python.org/}}\n",
      "|wikibooks              = Python Programming\n",
      "|influenced_by          = [[ABC (programming language)|ABC]],<ref name=\"faq-created\"/> [[ALGOL 68]],<ref name=\"98-interview\"/> [[C (programming language)|C]],<ref name=\"AutoNT-1\"/> [[C++]],<ref name=\"classmix\"/> [[Dylan (programming langu\n"
     ]
    }
   ],
   "source": [
    "import urllib\n",
    "keyword='Albert_Einstein'\n",
    "keyword='Python (programming language)'\n",
    "s = urllib.urlopen('http://en.wikipedia.org/w/index.php?action=raw&title='+keyword).read()\n",
    "#print s.find('Python is a widely used general-purpose')\n",
    "print s[:5000]"
   ]
  },
  {
   "cell_type": "code",
   "execution_count": 34,
   "metadata": {
    "collapsed": false
   },
   "outputs": [],
   "source": [
    "import lxml.html\n",
    "from lxml.cssselect import CSSSelector"
   ]
  },
  {
   "cell_type": "code",
   "execution_count": 35,
   "metadata": {
    "collapsed": true
   },
   "outputs": [],
   "source": [
    "r = requests.get('https://en.wikipedia.org/wiki/Python_(programming_language)')\n",
    "tree = lxml.html.fromstring(r.text)"
   ]
  },
  {
   "cell_type": "code",
   "execution_count": 36,
   "metadata": {
    "collapsed": false
   },
   "outputs": [
    {
     "name": "stdout",
     "output_type": "stream",
     "text": [
      "[<Element div at 0x5837c28>]\n"
     ]
    }
   ],
   "source": [
    "sel = CSSSelector('#mw-content-text > div:nth-child(1)')\n",
    "results = sel(tree)\n",
    "print results"
   ]
  },
  {
   "cell_type": "code",
   "execution_count": 37,
   "metadata": {
    "collapsed": false
   },
   "outputs": [
    {
     "name": "stdout",
     "output_type": "stream",
     "text": [
      "<div role=\"note\" class=\"hatnote\">This article is about the programming language. For the snake genus, see <a href=\"/wiki/Python_(genus)\" title=\"Python (genus)\">Python (genus)</a>. For other uses, see <a href=\"/wiki/Python_(disambiguation)\" class=\"mw-redirect mw-disambig\" title=\"Python (disambiguation)\">Python (disambiguation)</a>.</div>\n",
      "\n"
     ]
    }
   ],
   "source": [
    "match = results[0]\n",
    "print lxml.html.tostring(match)"
   ]
  },
  {
   "cell_type": "code",
   "execution_count": 38,
   "metadata": {
    "collapsed": false
   },
   "outputs": [
    {
     "name": "stdout",
     "output_type": "stream",
     "text": [
      "This article is about the programming language. For the snake genus, see \n",
      "This article is about the programming language. For the snake genus, see \n"
     ]
    }
   ],
   "source": [
    "print match.text\n",
    "for result in results:\n",
    "    print result.text"
   ]
  },
  {
   "cell_type": "code",
   "execution_count": null,
   "metadata": {
    "collapsed": true
   },
   "outputs": [],
   "source": []
  }
 ],
 "metadata": {
  "anaconda-cloud": {},
  "kernelspec": {
   "display_name": "Python [default]",
   "language": "python",
   "name": "python2"
  },
  "language_info": {
   "codemirror_mode": {
    "name": "ipython",
    "version": 2
   },
   "file_extension": ".py",
   "mimetype": "text/x-python",
   "name": "python",
   "nbconvert_exporter": "python",
   "pygments_lexer": "ipython2",
   "version": "2.7.12"
  }
 },
 "nbformat": 4,
 "nbformat_minor": 1
}
