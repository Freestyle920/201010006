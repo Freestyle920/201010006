{
 "cells": [
  {
   "cell_type": "code",
   "execution_count": 1,
   "metadata": {
    "collapsed": false
   },
   "outputs": [
    {
     "name": "stdout",
     "output_type": "stream",
     "text": [
      "http://www.kbreport.com/leader/main?rows=20&order=oWAR&orderType=DESC&teamId=1&defense_no=2&year_from=2015&year_to=2015&split01=&split02_1=&split02_2=&r_tpa_count=&tpa_count=0\n"
     ]
    }
   ],
   "source": [
    "import urllib2\n",
    "import requests\n",
    "\n",
    "urlPlayer='http://www.kbreport.com/player/list?key=이대호'\n",
    "urlbase=\"http://www.kbreport.com/leader/main?\"\n",
    "url1=\"rows=20&order=oWAR&orderType=DESC&\"\n",
    "url2=\"teamId=1&defense_no=2&year_from=2015&year_to=2015&split01=&split02_1=&split02_2=&r_tpa_count=&tpa_count=0\"\n",
    "urlbaseball=urlbase+url1+url2\n",
    "print urlbaseball"
   ]
  },
  {
   "cell_type": "code",
   "execution_count": 3,
   "metadata": {
    "collapsed": false
   },
   "outputs": [
    {
     "name": "stdout",
     "output_type": "stream",
     "text": [
      "ZZ</li></a>\r\n",
      "\t\t\t\t\t<a href=\"depth.html\"><li>팀구성도</li></a>\r\n",
      "\t\t\t\t\t<a href=\"trade.html\"><li>선수이동내역</li></a>\r\n",
      "\t\t\t\t\t<a href=\"/leader/main\"><li>개인순위</li></a>\r\n",
      "\t\t\t\t\t<a href=\"team.html\"><li>팀순위</li></a>\r\n",
      "\t\t\t\t\t<a href=\"awards.html\"><li id=\"nav3\">명예의전당</li></a>\r\n",
      "\t\t\t\t\t<a href=\"/statDic/main\"><li id=\"nav4\">STAT Dic</li></a>\r\n",
      "\t\t\t\t\t<a href=\"/event/hitProbabilityPerGame\"><li>이벤트 STAT</li></a>\r\n",
      "\t\t\t\t\t -->\r\n",
      "\t\t\t\t</ul>\r\n",
      "\t\t\t</div>\r\n",
      "\t\t</div><!-- .nav end -->\r\n",
      "\t\t<div class=\"top-score-box\">\r\n",
      "\t\t<div class=\"top-score\">\r\n",
      "\t\t\t\t<div class=\"top-score-top\">\r\n",
      "\t\t\t\t\t<div class=\"tst-1\">\r\n",
      "\t\t\t\t\t\t<span class=\"tst-date\">2014.6.24</span>\r\n",
      "\t\t\t\t\t\t<span class=\"tst-day\">화</span>\r\n",
      "\t\t\t\t\t</div>\r\n",
      "\t\t\t\t\t<div class=\"tst-2\">\r\n",
      "\t\t\t\t\t\t<div class=\"tst-vs-score\">\r\n",
      "\t\t\t\t\t\t\t<p class=\"tst-stadium\">잠실</p>\r\n",
      "\t\t\t\t\t\t\t<p class=\"tst-team-1\"><span class=\"teamName\">삼성</span></p>\r\n",
      "\t\t\t\t\t\t\t<span class=\"tst-team-1-score\">7</span>\r\n",
      "\t\t\t\t\t\t\t<span class=\"tst-dash\">-</span>\r\n",
      "\t\t\t\t\t\t\t<span class=\"tst-team-2-score\">6</span>\r\n",
      "\t\t\t\t\t\t\t<p class=\"tst-team-2\"><span class=\"t\n"
     ]
    }
   ],
   "source": [
    "data=requests.get(urlbaseball).text\n",
    "print data[6000:7000]"
   ]
  },
  {
   "cell_type": "code",
   "execution_count": 4,
   "metadata": {
    "collapsed": false
   },
   "outputs": [
    {
     "name": "stdout",
     "output_type": "stream",
     "text": [
      "6515\n",
      "8528\n"
     ]
    }
   ],
   "source": [
    "print data.find('top-score-top')\n",
    "print data.find('top-score end')"
   ]
  },
  {
   "cell_type": "code",
   "execution_count": 5,
   "metadata": {
    "collapsed": false
   },
   "outputs": [
    {
     "name": "stdout",
     "output_type": "stream",
     "text": [
      "[u'(\\uc2b9) \\uc774\\ud638\\uc131 (\\ud328) \\uc815\\uc218\\uadfc (\\uc138) \\uc784\\ucc3d\\uc6a9 (\\ud648\\ub7f0) \\uae40\\ubc14\\uc704</p>\\r', u'(\\uc2b9) \\uc774\\ud638\\uc131 (\\ud328) \\uc815\\uc218\\uadfc (\\uc138) \\uc784\\ucc3d\\uc6a9 (\\ud648\\ub7f0) \\uae40\\ubc14\\uc704</p>\\r', u'(\\uc2b9) \\uc774\\ud638\\uc131 (\\ud328) \\uc815\\uc218\\uadfc (\\uc138) \\uc784\\ucc3d\\uc6a9 (\\ud648\\ub7f0) \\uae40\\ubc14\\uc704</p>\\r', u'(\\uc2b9) \\uc774\\ud638\\uc131 (\\ud328) \\uc815\\uc218\\uadfc (\\uc138) \\uc784\\ucc3d\\uc6a9 (\\ud648\\ub7f0) \\uae40\\ubc14\\uc704</p>\\r']\n",
      "(승) 이호성 (패) 정수근 (세) 임창용 (홈런) 김바위</p>\r\n",
      "(승) 이호성 (패) 정수근 (세) 임창용 (홈런) 김바위</p>\r\n",
      "(승) 이호성 (패) 정수근 (세) 임창용 (홈런) 김바위</p>\r\n",
      "(승) 이호성 (패) 정수근 (세) 임창용 (홈런) 김바위</p>\r\n"
     ]
    }
   ],
   "source": [
    "mydata=data[6340:8353+len('top-score end')]\n",
    "import re\n",
    "p=re.compile(u'.승.+')\n",
    "found=p.findall(mydata)\n",
    "print found\n",
    "for item in found:\n",
    "    print item"
   ]
  },
  {
   "cell_type": "code",
   "execution_count": 6,
   "metadata": {
    "collapsed": false
   },
   "outputs": [
    {
     "name": "stdout",
     "output_type": "stream",
     "text": [
      "80743\n"
     ]
    }
   ],
   "source": [
    "import requests\n",
    "urlkorbase='http://www.koreabaseball.com/Record/Player/HitterBasic/Basic1.aspx'\n",
    "data=requests.get(urlkorbase).text\n",
    "kosis='http://kosis.kr/statisticsList/statisticsList_01List.jsp?vwcd=MT_ZTITLE&parentId=A#SubCont'\n",
    "data=requests.get(urlkorbase).text\n",
    "print len(data)"
   ]
  },
  {
   "cell_type": "code",
   "execution_count": null,
   "metadata": {
    "collapsed": true
   },
   "outputs": [],
   "source": []
  }
 ],
 "metadata": {
  "kernelspec": {
   "display_name": "Python [default]",
   "language": "python",
   "name": "python2"
  },
  "language_info": {
   "codemirror_mode": {
    "name": "ipython",
    "version": 2
   },
   "file_extension": ".py",
   "mimetype": "text/x-python",
   "name": "python",
   "nbconvert_exporter": "python",
   "pygments_lexer": "ipython2",
   "version": "2.7.12"
  }
 },
 "nbformat": 4,
 "nbformat_minor": 1
}
