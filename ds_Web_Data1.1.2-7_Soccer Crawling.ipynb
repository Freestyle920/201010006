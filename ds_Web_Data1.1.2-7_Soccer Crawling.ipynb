{
 "cells": [
  {
   "cell_type": "markdown",
   "metadata": {},
   "source": [
    "##웹데이터-7: 프리미어리그 크롤링"
   ]
  },
  {
   "cell_type": "code",
   "execution_count": 2,
   "metadata": {
    "collapsed": true
   },
   "outputs": [],
   "source": [
    "url = 'http://www.bbc.co.uk/sport/football/premier-league/results'"
   ]
  },
  {
   "cell_type": "code",
   "execution_count": 3,
   "metadata": {
    "collapsed": true
   },
   "outputs": [],
   "source": [
    "import requests\n",
    "r=requests.get(url)\n",
    "html=r.text"
   ]
  },
  {
   "cell_type": "code",
   "execution_count": 4,
   "metadata": {
    "collapsed": false
   },
   "outputs": [
    {
     "data": {
      "text/plain": [
       "78787"
      ]
     },
     "execution_count": 4,
     "metadata": {},
     "output_type": "execute_result"
    }
   ],
   "source": [
    "html.find('table-stats')"
   ]
  },
  {
   "cell_type": "code",
   "execution_count": 5,
   "metadata": {
    "collapsed": true
   },
   "outputs": [],
   "source": [
    "def getTableStats(string, query):\n",
    "    listindex=list()\n",
    "    offset=0\n",
    "    i = string.find(query, offset)\n",
    "    while i >= 0:\n",
    "        listindex.append(i)\n",
    "        i = string.find(query, i + 1)\n",
    "    return listindex"
   ]
  },
  {
   "cell_type": "code",
   "execution_count": 7,
   "metadata": {
    "collapsed": false
   },
   "outputs": [
    {
     "name": "stdout",
     "output_type": "stream",
     "text": [
      "[78787, 80774, 83777, 91890, 96936, 103006, 104997, 106974, 108970, 118113, 123172, 129248, 131229, 133212, 135196, 144342, 147368, 156477, 159497, 167586, 169575, 171555, 174562, 197616]\n"
     ]
    }
   ],
   "source": [
    "param1=html\n",
    "param2='table-stats'\n",
    "indices=getTableStats(param1, param2)\n",
    "print indices"
   ]
  },
  {
   "cell_type": "code",
   "execution_count": 15,
   "metadata": {
    "collapsed": false
   },
   "outputs": [],
   "source": [
    "from scrapy.selector import Selector\n",
    "nodes=Selector(text=html).xpath(\"//table[@class='table-stats']/tbody/tr[@class='report']/td[@class='match-details']/p\")"
   ]
  },
  {
   "cell_type": "code",
   "execution_count": 16,
   "metadata": {
    "collapsed": false
   },
   "outputs": [
    {
     "name": "stdout",
     "output_type": "stream",
     "text": [
      "<p>\n",
      "                <span class=\"team-home teams\">\n",
      "                                        <a href=\"/sport/football/teams/liverpool\">Liverpool</a>                </span>\n",
      "                  <span class=\"score\"> <abbr title=\"Score\"> 0-0 </abbr> </span>                  <span class=\"team-away teams\">\n",
      "                    <a href=\"/sport/football/teams/manchester-united\">Man Utd</a>                </span>\n",
      "                                            </p>\n"
     ]
    }
   ],
   "source": [
    "print nodes[0].extract()"
   ]
  },
  {
   "cell_type": "code",
   "execution_count": 17,
   "metadata": {
    "collapsed": false
   },
   "outputs": [
    {
     "name": "stdout",
     "output_type": "stream",
     "text": [
      "Liverpool 0-0 0 0 Man Utd\n",
      "Middlesbrough 0-1 0 1 Watford\n",
      "Southampton 3-1 3 1 Burnley\n",
      "Chelsea 3-0 3 0 Leicester\n",
      "Arsenal 3-2 3 2 Swansea\n",
      "Bournemouth 6-1 6 1 Hull\n",
      "Man City 1-1 1 1 Everton\n",
      "Stoke 2-0 2 0 Sunderland\n",
      "West Brom 1-1 1 1 Tottenham\n",
      "Crystal Palace 0-1 0 1 West Ham\n",
      "Man Utd 1-1 1 1 Stoke\n",
      "Leicester 0-0 0 0 Southampton\n",
      "Tottenham 2-0 2 0 Man City\n",
      "Burnley 0-1 0 1 Arsenal\n",
      "Swansea 1-2 1 2 Liverpool\n",
      "Hull 0-2 0 2 Chelsea\n",
      "Sunderland 1-1 1 1 West Brom\n",
      "Watford 2-2 2 2 Bournemouth\n",
      "West Ham 1-1 1 1 Middlesbrough\n",
      "Everton 1-1 1 1 Crystal Palace\n",
      "Burnley 2-0 2 0 Watford\n",
      "West Ham 0-3 0 3 Southampton\n",
      "Man Utd 4-1 4 1 Leicester\n",
      "Bournemouth 1-0 1 0 Everton\n",
      "Liverpool 5-1 5 1 Hull\n",
      "Middlesbrough 1-2 1 2 Tottenham\n",
      "Stoke 1-1 1 1 West Brom\n",
      "Sunderland 2-3 2 3 Crystal Palace\n",
      "Swansea 1-3 1 3 Man City\n",
      "Arsenal 3-0 3 0 Chelsea\n",
      "Watford 3-1 3 1 Man Utd\n",
      "Crystal Palace 4-1 4 1 Stoke\n",
      "Southampton 1-0 1 0 Swansea\n",
      "Tottenham 1-0 1 0 Sunderland\n",
      "Hull 1-4 1 4 Arsenal\n",
      "Leicester 3-0 3 0 Burnley\n",
      "Man City 4-0 4 0 Bournemouth\n",
      "West Brom 4-2 4 2 West Ham\n",
      "Everton 3-1 3 1 Middlesbrough\n",
      "Chelsea 1-2 1 2 Liverpool\n",
      "Sunderland 0-3 0 3 Everton\n",
      "Swansea 2-2 2 2 Chelsea\n",
      "Man Utd 1-2 1 2 Man City\n",
      "Arsenal 2-1 2 1 Southampton\n",
      "Bournemouth 1-0 1 0 West Brom\n",
      "Burnley 1-1 1 1 Hull\n",
      "Middlesbrough 1-2 1 2 Crystal Palace\n",
      "Stoke 0-4 0 4 Tottenham\n",
      "West Ham 2-4 2 4 Watford\n",
      "Liverpool 4-1 4 1 Leicester\n",
      "West Brom 0-0 0 0 Middlesbrough\n",
      "Man City 3-1 3 1 West Ham\n",
      "Tottenham 1-1 1 1 Liverpool\n",
      "Chelsea 3-0 3 0 Burnley\n",
      "Crystal Palace 1-1 1 1 Bournemouth\n",
      "Everton 1-0 1 0 Stoke\n",
      "Leicester 2-1 2 1 Swansea\n",
      "Southampton 1-1 1 1 Sunderland\n",
      "Watford 1-3 1 3 Arsenal\n",
      "Hull 0-1 0 1 Man Utd\n",
      "Sunderland 1-2 1 2 Middlesbrough\n",
      "West Ham 1-0 1 0 Bournemouth\n",
      "Stoke 1-4 1 4 Man City\n",
      "Burnley 2-0 2 0 Liverpool\n",
      "Swansea 0-2 0 2 Hull\n",
      "Tottenham 1-0 1 0 Crystal Palace\n",
      "Watford 1-2 1 2 Chelsea\n",
      "West Brom 1-2 1 2 Everton\n",
      "Leicester 0-0 0 0 Arsenal\n",
      "Man Utd 2-0 2 0 Southampton\n",
      "Chelsea 2-1 2 1 West Ham\n",
      "Bournemouth 1-3 1 3 Man Utd\n",
      "Arsenal 3-4 3 4 Liverpool\n",
      "Hull 2-1 2 1 Leicester\n",
      "Burnley 0-1 0 1 Swansea\n",
      "Crystal Palace 0-1 0 1 West Brom\n",
      "Everton 1-1 1 1 Tottenham\n",
      "Middlesbrough 1-1 1 1 Stoke\n",
      "Southampton 1-1 1 1 Watford\n",
      "Man City 2-1 2 1 Sunderland\n"
     ]
    }
   ],
   "source": [
    "for node in nodes:\n",
    "    home_team = node.xpath(\"span[@class='team-home teams']/a/text()\").extract()\n",
    "    score = node.xpath(\"span[@class='score']/abbr/text()\").extract()\n",
    "    away_team = node.xpath(\"span[@class='team-away teams']/a/text()\").extract()\n",
    "    if home_team and score and away_team:\n",
    "        home_team = home_team[0].strip()\n",
    "        score = score[0].strip()\n",
    "        home_goals = int(score.split('-')[0])\n",
    "        away_goals = int(score.split('-')[1])\n",
    "        away_team = away_team[0].strip()\n",
    "    print home_team, score, home_goals, away_goals, away_team"
   ]
  },
  {
   "cell_type": "code",
   "execution_count": null,
   "metadata": {
    "collapsed": true
   },
   "outputs": [],
   "source": []
  }
 ],
 "metadata": {
  "kernelspec": {
   "display_name": "Python [default]",
   "language": "python",
   "name": "python2"
  },
  "language_info": {
   "codemirror_mode": {
    "name": "ipython",
    "version": 2
   },
   "file_extension": ".py",
   "mimetype": "text/x-python",
   "name": "python",
   "nbconvert_exporter": "python",
   "pygments_lexer": "ipython2",
   "version": "2.7.12"
  }
 },
 "nbformat": 4,
 "nbformat_minor": 1
}
